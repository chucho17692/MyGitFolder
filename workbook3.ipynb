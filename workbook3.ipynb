{
 "cells": [
  {
   "cell_type": "markdown",
   "metadata": {},
   "source": [
    "# MA934 Numerical Methods - Workbook 3\n",
    "\n",
    "If you haven't already done so, install the DualNumbers Julia package. It is a good idea to update all your packages first. The commands are\n",
    "\n",
    ">Pkg.update()\n",
    "\n",
    ">Pkg.add(\"DualNumbers\")\n",
    "\n",
    "but you only need to run them once. "
   ]
  },
  {
   "cell_type": "code",
   "execution_count": 1,
   "metadata": {},
   "outputs": [],
   "source": [
    "#Pkg.update()\n",
    "#Pkg.add(\"DualNumbers\")\n",
    "using Plots\n",
    "using DualNumbers"
   ]
  },
  {
   "cell_type": "markdown",
   "metadata": {},
   "source": [
    "## Question 1: Numerical differentiation\n",
    "\n",
    "**1))** Derive a finite difference formula for the derivative of a function, $f$ at a point $x$ using the 3-point stencil $(x, x+h, x+2h)$ and state the order of the approximation error in terms of $h$.\n",
    "\n",
    "**2)** Write a formula for the derivative, $f^\\prime(x)$, of the function\n",
    "\n",
    "$$f(x) = \\sin(\\exp(x)) $$\n",
    "\n",
    "and evaluate it at $x=1$.\n",
    "\n",
    "**3)** Use your finite difference formula to approximate the value of $f^\\prime(1)$ for values of $h$ decreasing from $2^{-1}$ to $2^{-30}$ in powers of $2$. Plot the error as a function of $h$ and verify the theoretically predicted scaling of the error with $h$. What is the best relative error you can achieve?\n",
    "\n",
    "**4)** Read the examples at https://github.com/JuliaDiff/DualNumbers.jl. Define a dual number $x = 1+\\epsilon$ and use it to evaluate $f^\\prime(1)$. Verify that the answer is accurate to within machine precision."
   ]
  },
  {
   "cell_type": "code",
   "execution_count": 3,
   "metadata": {},
   "outputs": [
    {
     "name": "stdout",
     "output_type": "stream",
     "text": [
      "theoretical value=-2.478349732955235\n",
      "best relative error= 3.82296459864578e-11\n"
     ]
    },
    {
     "name": "stderr",
     "output_type": "stream",
     "text": [
      "\u001b[1m\u001b[31mWARNING: No strict ticks found\u001b[0m\n"
     ]
    },
    {
     "data": {
      "text/html": [
       "<script src=\"/home/juan/.julia/v0.5/Plots/src/backends/../../deps/plotly-latest.min.js\"></script>    <div id=\"3413df83-15d6-4e2b-b2e0-a002c19de9cb\" style=\"width:700px;height:500px;\"></div>\n",
       "    <script>\n",
       "    PLOT = document.getElementById('3413df83-15d6-4e2b-b2e0-a002c19de9cb');\n",
       "    Plotly.plot(PLOT, [{\"yaxis\":\"y\",\"y\":[3.5418754645555968,0.7731137010009155,0.10273486265697818,0.016301033642500684,0.003075042763977187,0.0006546102852125202,0.00015005212765384357,3.585422975316277e-5,8.758767182648342e-6,2.1642525096510212e-6,5.37892833385456e-7,1.3407968690870575e-7,3.347047350388266e-8,8.363872261440974e-9,2.095634776821953e-9,5.094760169299661e-10,1.3840217860661141e-10,1.5295409383497827e-10,9.474643292151086e-11,9.474643292151086e-11,6.768230420561849e-10,2.0738069039794027e-9,1.1424843293639242e-9,7.201608198670328e-10,1.9768935821673495e-8,1.9768935821673495e-8,4.212067761244498e-8,4.212067761244498e-8,2.5073693432631217e-7,5.487601582032653e-7],\"showlegend\":true,\"name\":\"computing error\",\"type\":\"scatter\",\"xaxis\":\"x\",\"line\":{\"width\":1,\"dash\":\"solid\",\"color\":\"rgba(0, 154, 250, 1.000)\",\"shape\":\"linear\"},\"colorbar\":{\"title\":\"\"},\"x\":[0.5,0.25,0.125,0.0625,0.03125,0.015625,0.0078125,0.00390625,0.001953125,0.0009765625,0.00048828125,0.000244140625,0.0001220703125,6.103515625e-5,3.0517578125e-5,1.52587890625e-5,7.62939453125e-6,3.814697265625e-6,1.9073486328125e-6,9.5367431640625e-7,4.76837158203125e-7,2.384185791015625e-7,1.1920928955078125e-7,5.960464477539063e-8,2.9802322387695312e-8,1.4901161193847656e-8,7.450580596923828e-9,3.725290298461914e-9,1.862645149230957e-9,9.313225746154785e-10],\"mode\":\"lines\"},{\"yaxis\":\"y\",\"y\":[0.8854688661388992,0.2213672165347248,0.0553418041336812,0.0138354510334203,0.003458862758355075,0.0008647156895887687,0.00021617892239719219,5.4044730599298046e-5,1.3511182649824512e-5,3.377795662456128e-6,8.44448915614032e-7,2.11112228903508e-7,5.2778057225877e-8,1.319451430646925e-8,3.2986285766173124e-9,8.246571441543281e-10,2.0616428603858202e-10,5.1541071509645506e-11,1.2885267877411377e-11,3.221316969352844e-12,8.05329242338211e-13,2.0133231058455276e-13,5.033307764613819e-14,1.2583269411534547e-14,3.145817352883637e-15,7.864543382209092e-16,1.966135845552273e-16,4.9153396138806826e-17,1.2288349034701706e-17,3.0720872586754266e-18],\"showlegend\":true,\"name\":\"theoretically predicted scaling\",\"type\":\"scatter\",\"xaxis\":\"x\",\"line\":{\"width\":1,\"dash\":\"solid\",\"color\":\"rgba(227, 111, 71, 1.000)\",\"shape\":\"linear\"},\"colorbar\":{\"title\":\"\"},\"x\":[0.5,0.25,0.125,0.0625,0.03125,0.015625,0.0078125,0.00390625,0.001953125,0.0009765625,0.00048828125,0.000244140625,0.0001220703125,6.103515625e-5,3.0517578125e-5,1.52587890625e-5,7.62939453125e-6,3.814697265625e-6,1.9073486328125e-6,9.5367431640625e-7,4.76837158203125e-7,2.384185791015625e-7,1.1920928955078125e-7,5.960464477539063e-8,2.9802322387695312e-8,1.4901161193847656e-8,7.450580596923828e-9,3.725290298461914e-9,1.862645149230957e-9,9.313225746154785e-10],\"mode\":\"lines\"}], {\"yaxis\":{\"type\":\"log\",\"titlefont\":{\"size\":15,\"color\":\"rgba(0, 0, 0, 1.000)\",\"family\":\"sans-serif\"},\"title\":\"log(absolute error)\",\"tickfont\":{\"size\":11,\"color\":\"rgba(0, 0, 0, 1.000)\",\"family\":\"sans-serif\"},\"ticks\":\"inside\",\"tickmode\":\"array\",\"showgrid\":true,\"tickvals\":[1.0e-15,1.0e-12,1.0e-9,1.0e-6,0.001,1.0],\"domain\":[0.060651793525809315,0.9921259842519685],\"ticktext\":[\"10^-15\",\"10^-12\",\"10^-9\",\"10^-6\",\"10^-3\",\"10^0\"],\"tickangle\":0,\"zeroline\":false,\"linecolor\":\"rgba(0, 0, 0, 1.000)\",\"tickcolor\":\"rgba(0, 0, 0, 1.000)\",\"anchor\":\"x\"},\"annotations\":[],\"width\":700,\"plot_bgcolor\":\"rgba(255, 255, 255, 1.000)\",\"showlegend\":true,\"legend\":{\"bgcolor\":\"rgba(255, 255, 255, 1.000)\",\"y\":1.0,\"font\":{\"size\":11,\"color\":\"rgba(0, 0, 0, 1.000)\",\"family\":\"sans-serif\"},\"bordercolor\":\"rgba(0, 0, 0, 1.000)\",\"x\":1.0},\"xaxis\":{\"type\":\"log\",\"titlefont\":{\"size\":15,\"color\":\"rgba(0, 0, 0, 1.000)\",\"family\":\"sans-serif\"},\"title\":\"log(h)\",\"tickfont\":{\"size\":11,\"color\":\"rgba(0, 0, 0, 1.000)\",\"family\":\"sans-serif\"},\"ticks\":\"inside\",\"tickmode\":\"array\",\"showgrid\":true,\"tickvals\":[1.0e-10,1.0e-8,1.0e-6,0.0001,0.01,1.0],\"domain\":[0.10364016997875265,0.9943757030371204],\"ticktext\":[\"10^-10\",\"10^-8\",\"10^-6\",\"10^-4\",\"10^-2\",\"10^0\"],\"tickangle\":0,\"zeroline\":false,\"linecolor\":\"rgba(0, 0, 0, 1.000)\",\"tickcolor\":\"rgba(0, 0, 0, 1.000)\",\"anchor\":\"y\"},\"paper_bgcolor\":\"rgba(255, 255, 255, 1.000)\",\"height\":500,\"margin\":{\"r\":0,\"l\":0,\"b\":20,\"t\":20}});\n",
       "    </script>\n"
      ]
     },
     "execution_count": 3,
     "metadata": {},
     "output_type": "execute_result"
    },
    {
     "name": "stderr",
     "output_type": "stream",
     "text": [
      "\u001b[1m\u001b[31mWARNING: No strict ticks found\u001b[0m\n"
     ]
    }
   ],
   "source": [
    "#Exercise 1-3\n",
    "println(\"theoretical value=\", cos(e)*e)\n",
    "plotly()\n",
    "\n",
    "x=1\n",
    "theo = cos(e^x)*e^x\n",
    "power=1./(2.^(1:30))\n",
    "fi = sin(e^x)\n",
    "approx =zeros(length(powers))\n",
    "s=0\n",
    "for h in powers\n",
    "    fi1 = sin(e^(x+h))\n",
    "    fi2 = sin(e^(x+2*h))\n",
    "    approx[s=s+1] = (-fi2+4*fi1-3*fi)/(2*h)\n",
    "    \n",
    "end\n",
    "error = abs(theo - approx)\n",
    "\n",
    "#Best Relative error\n",
    "min_rel_error = minimum(abs(error./theo))\n",
    "println(\"best relative error= \",min_rel_error)\n",
    "#Plotting\n",
    "default(size=(700,500))\n",
    "plot(power,error,xlabel=\"log(h)\",ylabel=\"log(absolute error)\",xaxis=:log,yaxis=:log,label=\"computing error\")\n",
    "plot!(power,(power.^2).*error[1],label=\"theoretically predicted scaling\")\n",
    "\n"
   ]
  },
  {
   "cell_type": "code",
   "execution_count": 4,
   "metadata": {},
   "outputs": [
    {
     "name": "stdout",
     "output_type": "stream",
     "text": [
      "error= 0.0\n"
     ]
    }
   ],
   "source": [
    "y = Dual(1,1)\n",
    "g(x) = sin(e^x)\n",
    "z = g(y)\n",
    "println(\"error= \", theo - dualpart(z))"
   ]
  },
  {
   "cell_type": "markdown",
   "metadata": {},
   "source": [
    "## Question 2: Finding roots\n",
    "\n",
    "**1)** Referring to the function, $f(x)$, defined above, find the roots of the equation\n",
    "\n",
    "$$ f(x) = 0$$\n",
    "\n",
    "in the interval $0<x<2$.\n",
    "\n",
    "**2)** Implement the bracketing and bisection method to find one of the roots numerically. Measure the error at each iteration of the algorithm and demonstrate that the error decreases exponentially as a function of the number of iterations. To how many digits of precision can you approximate the root?\n",
    "\n",
    "**3)** Perform the same measurements for the Newton Raphson method and show that the error decreases faster than exponentially as a function of the number of iterations."
   ]
  },
  {
   "cell_type": "code",
   "execution_count": 5,
   "metadata": {},
   "outputs": [],
   "source": [
    "h(x) = sin(e.^x)\n",
    "\n",
    "root =log(pi)\n",
    "a = 0\n",
    "b = 1.41\n",
    "tol = 1e-10\n",
    "err_vect = zeros(100)\n",
    "i = 0 \n",
    "\n",
    "#bracketing and bisection method\n",
    "if h(a)*h(b) < 0 \n",
    "    while abs(b-a) > tol\n",
    "        i = i+1\n",
    "        x = (a+b)/2\n",
    "        if h(a)*h(x)<0\n",
    "           a = a\n",
    "           b = x\n",
    "        else\n",
    "           a = x\n",
    "           b = b\n",
    "        end\n",
    "        err_vect[i] = abs(root-x)  \n",
    "    end\n",
    "else\n",
    "    println(\"no roots\")\n",
    "end\n",
    "\n",
    "err_vect=err_vect[find(err_vect)]\n",
    "\n",
    "#Newton Raphson\n",
    "\n",
    "zfprime(x) = cos(e^x)*e^x\n",
    "\n",
    "a = 0\n",
    "b = 1.41\n",
    "x0 = 0.8\n",
    "N=100\n",
    "err_vect_NR = zeros(N)\n",
    "\n",
    "for i in 1:N\n",
    "    if abs(h(x0)) < tol\n",
    "       return x0\n",
    "    end\n",
    "    x1 = x0 - (h(x0)/zfprime(x0))\n",
    "    x0 = x1\n",
    "    err_vect_NR[i] = abs(root-x0)\n",
    "end;\n"
   ]
  },
  {
   "cell_type": "code",
   "execution_count": 6,
   "metadata": {},
   "outputs": [
    {
     "data": {
      "text/html": [
       "<script src=\"/home/juan/.julia/v0.5/Plots/src/backends/../../deps/plotly-latest.min.js\"></script>    <div id=\"22bb8195-d362-4a67-913a-83b46f2a8953\" style=\"width:700px;height:500px;\"></div>\n",
       "    <script>\n",
       "    PLOT = document.getElementById('22bb8195-d362-4a67-913a-83b46f2a8953');\n",
       "    Plotly.plot(PLOT, [{\"yaxis\":\"y\",\"y\":[0.4397298858494002,0.08722988584940028,0.08902011415059974,0.0008951141505997295,0.043167385849400164,0.021136135849400217,0.010120510849400244,0.004612698349400146,0.0018587920994002083,0.00048183897440012835,0.0002066375880998006,0.00013760069315016388,3.451844747481836e-5,5.154112283767276e-5,8.511337681538222e-6,1.3003554896640068e-5,2.246108607550923e-6,3.1326145368826275e-6,4.432529647768746e-7,9.014278214980465e-7,2.2908742836058593e-7,1.0708276820814433e-7,6.10023300762208e-8,2.3040219065961764e-8,1.898105561615182e-8,2.0295816138826694e-9,8.475737001134576e-9,3.2230775826036506e-9,5.967479843604906e-10,7.164169257833919e-10,5.983458173375311e-11,2.684565902910663e-10,1.0431100427865658e-10,2.2238211272451736e-11],\"showlegend\":true,\"name\":\"bracketing and bisection method\",\"type\":\"scatter\",\"xaxis\":\"x\",\"line\":{\"width\":1,\"dash\":\"solid\",\"color\":\"rgba(0, 154, 250, 1.000)\",\"shape\":\"linear\"},\"colorbar\":{\"title\":\"\"},\"x\":[1,2,3,4,5,6,7,8,9,10,11,12,13,14,15,16,17,18,19,20,21,22,23,24,25,26,27,28,29,30,31,32,33,34],\"mode\":\"lines\"},{\"yaxis\":\"y\",\"y\":[0.2405486893001918,0.04683321881454927,0.0014469595255515166,1.036367289763973e-6,5.369038547087257e-13,0.0,0.0,0.0,0.0,0.0,0.0,0.0,0.0,0.0,0.0,0.0,0.0,0.0,0.0,0.0,0.0,0.0,0.0,0.0,0.0,0.0,0.0,0.0,0.0,0.0,0.0,0.0,0.0,0.0,0.0,0.0,0.0,0.0,0.0,0.0,0.0,0.0,0.0,0.0,0.0,0.0,0.0,0.0,0.0,0.0,0.0,0.0,0.0,0.0,0.0,0.0,0.0,0.0,0.0,0.0,0.0,0.0,0.0,0.0,0.0,0.0,0.0,0.0,0.0,0.0,0.0,0.0,0.0,0.0,0.0,0.0,0.0,0.0,0.0,0.0,0.0,0.0,0.0,0.0,0.0,0.0,0.0,0.0,0.0,0.0,0.0,0.0,0.0,0.0,0.0,0.0,0.0,0.0,0.0,0.0],\"showlegend\":true,\"name\":\"Newton Raphson\",\"type\":\"scatter\",\"xaxis\":\"x\",\"line\":{\"width\":1,\"dash\":\"solid\",\"color\":\"rgba(227, 111, 71, 1.000)\",\"shape\":\"linear\"},\"colorbar\":{\"title\":\"\"},\"x\":[1,2,3,4,5,6,7,8,9,10,11,12,13,14,15,16,17,18,19,20,21,22,23,24,25,26,27,28,29,30,31,32,33,34],\"mode\":\"lines\"},{\"yaxis\":\"y\",\"y\":[0.36787944117144233,0.1353352832366127,0.049787068367863944,0.01831563888873418,0.006737946999085467,0.0024787521766663585,0.0009118819655545162,0.00033546262790251185,0.00012340980408667956,4.539992976248485e-5,1.670170079024566e-5,6.14421235332821e-6,2.2603294069810542e-6,8.315287191035679e-7,3.059023205018258e-7,1.1253517471925912e-7,4.139937718785167e-8,1.522997974471263e-8,5.602796437537268e-9,2.061153622438558e-9,7.582560427911907e-10,2.7894680928689246e-10,1.026187963170189e-10,3.775134544279098e-11,1.3887943864964021e-11,5.109089028063325e-12,1.8795288165390832e-12,6.914400106940203e-13,2.543665647376923e-13,9.357622968840175e-14,3.442477108469977e-14,1.2664165549094176e-14,4.658886145103398e-15,1.713908431542013e-15],\"showlegend\":true,\"name\":\"exponential\",\"type\":\"scatter\",\"xaxis\":\"x\",\"line\":{\"width\":1,\"dash\":\"solid\",\"color\":\"rgba(62, 164, 78, 1.000)\",\"shape\":\"linear\"},\"colorbar\":{\"title\":\"\"},\"x\":[1,2,3,4,5,6,7,8,9,10,11,12,13,14,15,16,17,18,19,20,21,22,23,24,25,26,27,28,29,30,31,32,33,34],\"mode\":\"lines\"}], {\"yaxis\":{\"type\":\"-\",\"titlefont\":{\"size\":15,\"color\":\"rgba(0, 0, 0, 1.000)\",\"family\":\"sans-serif\"},\"title\":\"\",\"tickfont\":{\"size\":11,\"color\":\"rgba(0, 0, 0, 1.000)\",\"family\":\"sans-serif\"},\"ticks\":\"inside\",\"tickmode\":\"array\",\"showgrid\":true,\"tickvals\":[0.0,0.1,0.2,0.30000000000000004,0.4],\"domain\":[0.030096237970253722,0.9921259842519685],\"ticktext\":[\"0.0\",\"0.1\",\"0.2\",\"0.3\",\"0.4\"],\"tickangle\":0,\"zeroline\":false,\"linecolor\":\"rgba(0, 0, 0, 1.000)\",\"tickcolor\":\"rgba(0, 0, 0, 1.000)\",\"anchor\":\"x\"},\"annotations\":[],\"width\":700,\"plot_bgcolor\":\"rgba(255, 255, 255, 1.000)\",\"showlegend\":true,\"legend\":{\"bgcolor\":\"rgba(255, 255, 255, 1.000)\",\"y\":1.0,\"font\":{\"size\":11,\"color\":\"rgba(0, 0, 0, 1.000)\",\"family\":\"sans-serif\"},\"bordercolor\":\"rgba(0, 0, 0, 1.000)\",\"x\":1.0},\"xaxis\":{\"type\":\"-\",\"titlefont\":{\"size\":15,\"color\":\"rgba(0, 0, 0, 1.000)\",\"family\":\"sans-serif\"},\"title\":\"\",\"tickfont\":{\"size\":11,\"color\":\"rgba(0, 0, 0, 1.000)\",\"family\":\"sans-serif\"},\"ticks\":\"inside\",\"range\":[1.0,11.0],\"tickmode\":\"array\",\"showgrid\":true,\"tickvals\":[1.0,2.0,3.0,4.0,5.0,6.0,7.0,8.0,9.0,10.0,11.0],\"domain\":[0.04371953505811773,0.9943757030371203],\"ticktext\":[\"1\",\"2\",\"3\",\"4\",\"5\",\"6\",\"7\",\"8\",\"9\",\"10\",\"11\"],\"tickangle\":0,\"zeroline\":false,\"linecolor\":\"rgba(0, 0, 0, 1.000)\",\"tickcolor\":\"rgba(0, 0, 0, 1.000)\",\"anchor\":\"y\"},\"paper_bgcolor\":\"rgba(255, 255, 255, 1.000)\",\"height\":500,\"margin\":{\"r\":0,\"l\":0,\"b\":20,\"t\":20}});\n",
       "    </script>\n"
      ]
     },
     "execution_count": 6,
     "metadata": {},
     "output_type": "execute_result"
    }
   ],
   "source": [
    "t = 1:length(err_vect)\n",
    "plot(t,err_vect,label=\"bracketing and bisection method\",xticks=1:1:11,xlim=(1,11))\n",
    "plot!(t,err_vect_NR,label=\"Newton Raphson\")\n",
    "plot!(t,(e.^-t),label=\"exponential\")"
   ]
  },
  {
   "cell_type": "markdown",
   "metadata": {},
   "source": [
    "## Question 3: Finding minima\n",
    "\n",
    "**1)** The function $f(x)$ above has a single minimum in the interval $0<x<2$. Find its location analytically.\n",
    "\n",
    "**2)** Implement the Golden section search to find the location of this minimum numerically. Plot the error as a function of the number of iterations. To how many digits of precision can you approximate the location of the minimum?\n",
    "\n",
    "**3)** To understand your empirical findings, use Taylor's Theorem to show that near a minimum, $x_*$, of f(x),\n",
    "\n",
    "$$f(x) \\approx f(x_*)\\left( 1+ \\frac{f^{\\prime\\prime}(x_*)}{2\\,f(x_*)}\\,(x-x_*)^2\\right). $$\n",
    "Show that in order for a computer to distinguish between $f(x)$ and $f(x_*)$ we must have\n",
    "\n",
    "$$ \\left| x-x_*\\right| > \\sqrt{\\epsilon_m}\\,\\sqrt{\\left|\\frac{2\\,f(x_*)}{f^{\\prime\\prime}(x_*)}\\right|}$$\n",
    "\n",
    "thus limiting the precision with which the location of a minimum can be determined."
   ]
  },
  {
   "cell_type": "code",
   "execution_count": 22,
   "metadata": {},
   "outputs": [
    {
     "name": "stdout",
     "output_type": "stream",
     "text": [
      "2.2323212167663087e-9\n"
     ]
    }
   ],
   "source": [
    "phi = (1+sqrt(5))/2\n",
    "N = 10000\n",
    "\n",
    "a=0\n",
    "b=2\n",
    "c=b-(b-a)/phi\n",
    "\n",
    "triple = [a,c,b]\n",
    "f_triple = [h(a),h(c),h(b)]\n",
    "error = zeros(100)\n",
    "i=0\n",
    "while (triple[3]-triple[1]) > 1e-10\n",
    "    \n",
    "    x = triple[1] + (triple[3]-triple[1])/phi\n",
    "    triple[2] = triple[3] - (triple[3]-triple[1])/phi\n",
    "    \n",
    "    if h(x) < h(triple[2])\n",
    "        triple[1] = triple[2]\n",
    "        f_triple[1] = h(triple[2])\n",
    "        triple[2] = x     \n",
    "        f_triple[2] = h(x)\n",
    "    \n",
    "    else\n",
    "        triple[3] = x\n",
    "    \n",
    "        f_triple[3] = h(x)\n",
    "    end\n",
    "    error[i+=1] = abs(x-log(3*pi/2))\n",
    "end\n",
    "\n",
    "error=error[find(error)]\n",
    "\n",
    "println(abs(x-log(3*pi/2)))"
   ]
  },
  {
   "cell_type": "code",
   "execution_count": 19,
   "metadata": {},
   "outputs": [
    {
     "data": {
      "text/html": [
       "<script src=\"/home/juan/.julia/v0.5/Plots/src/backends/../../deps/plotly-latest.min.js\"></script>    <div id=\"5fec2fa5-aaff-48c5-8d14-5f06406000f3\" style=\"width:700px;height:500px;\"></div>\n",
       "    <script>\n",
       "    PLOT = document.getElementById('5fec2fa5-aaff-48c5-8d14-5f06406000f3');\n",
       "    Plotly.plot(PLOT, [{\"yaxis\":\"y\",\"y\":[0.31412701645777497,0.022330948957143937,0.15800893854180464,0.022330948957143715,0.0465527585401222,0.022330948957143715,0.003980286035705882,0.0202415235472726,0.003980286035705882,0.010191526065989498,0.003980286035705882,0.00014152858470661833,0.0016078034564213084,0.0001415285847063963,0.0007015957488516467,0.00014152858470661833,0.0003554552054272353,0.00014152858470661833,9.314662002823937e-6,5.9815886689573716e-5,9.314662002601892e-6,2.8604413359500924e-5,9.314662002601892e-6,2.607059970349823e-6,1.9466326188766203e-6,4.760969413375449e-6,1.9466326188766203e-6,2.0727682392696067e-7,8.716516191054069e-7,2.0727682414900528e-7,2.0332938044376192e-7,4.649176643667374e-8,5.0439209919872496e-8,4.649176621462914e-8,9.467427952714047e-9,1.34148714359128e-8,9.467428174758652e-9,7.271674373754422e-10,4.674610920574196e-9,7.271672153308373e-10,1.3361283190960194e-9,7.271674373754422e-10,2.002354282382157e-9,1.5152761267955839e-9,2.0023540603375523e-9,1.8163068826737572e-9,2.002354282382157e-9,2.1173378605965354e-9,2.1884014600459523e-9,2.2323212167663087e-9],\"showlegend\":true,\"name\":\"y1\",\"type\":\"scatter\",\"xaxis\":\"x\",\"line\":{\"width\":1,\"dash\":\"solid\",\"color\":\"rgba(0, 154, 250, 1.000)\",\"shape\":\"linear\"},\"colorbar\":{\"title\":\"\"},\"x\":[1,2,3,4,5,6,7,8,9,10,11,12,13,14,15,16,17,18,19,20,21,22,23,24,25,26,27,28,29,30,31,32,33,34,35,36,37,38,39,40,41,42,43,44,45,46,47,48,49,50],\"mode\":\"lines\"}], {\"yaxis\":{\"type\":\"log\",\"titlefont\":{\"size\":15,\"color\":\"rgba(0, 0, 0, 1.000)\",\"family\":\"sans-serif\"},\"title\":\"\",\"tickfont\":{\"size\":11,\"color\":\"rgba(0, 0, 0, 1.000)\",\"family\":\"sans-serif\"},\"ticks\":\"inside\",\"tickmode\":\"array\",\"showgrid\":true,\"tickvals\":[1.0e-10,1.0e-8,1.0e-6,0.0001,0.01,1.0],\"domain\":[0.030096237970253722,0.9921259842519685],\"ticktext\":[\"10^-10\",\"10^-8\",\"10^-6\",\"10^-4\",\"10^-2\",\"10^0\"],\"tickangle\":0,\"zeroline\":false,\"linecolor\":\"rgba(0, 0, 0, 1.000)\",\"tickcolor\":\"rgba(0, 0, 0, 1.000)\",\"anchor\":\"x\"},\"annotations\":[],\"width\":700,\"plot_bgcolor\":\"rgba(255, 255, 255, 1.000)\",\"showlegend\":false,\"xaxis\":{\"type\":\"log\",\"titlefont\":{\"size\":15,\"color\":\"rgba(0, 0, 0, 1.000)\",\"family\":\"sans-serif\"},\"title\":\"\",\"tickfont\":{\"size\":11,\"color\":\"rgba(0, 0, 0, 1.000)\",\"family\":\"sans-serif\"},\"ticks\":\"inside\",\"tickmode\":\"array\",\"showgrid\":true,\"tickvals\":[1.0,1.7782794100389228,3.1622776601683795,5.623413251903491,10.0,17.78279410038923,31.622776601683793],\"domain\":[0.08181477315335582,0.9943757030371203],\"ticktext\":[\"10^0.00\",\"10^0.25\",\"10^0.50\",\"10^0.75\",\"10^1.00\",\"10^1.25\",\"10^1.50\"],\"tickangle\":0,\"zeroline\":false,\"linecolor\":\"rgba(0, 0, 0, 1.000)\",\"tickcolor\":\"rgba(0, 0, 0, 1.000)\",\"anchor\":\"y\"},\"paper_bgcolor\":\"rgba(255, 255, 255, 1.000)\",\"height\":500,\"margin\":{\"r\":0,\"l\":0,\"b\":20,\"t\":20}});\n",
       "    </script>\n"
      ]
     },
     "execution_count": 19,
     "metadata": {},
     "output_type": "execute_result"
    },
    {
     "name": "stderr",
     "output_type": "stream",
     "text": [
      "\u001b[1m\u001b[31mWARNING: No strict ticks found\u001b[0m\n",
      "\u001b[1m\u001b[31mWARNING: No strict ticks found\u001b[0m\n"
     ]
    }
   ],
   "source": [
    "plot(1:length(error),error,legend=false,xaxis=:log,yaxis=:log)"
   ]
  }
 ],
 "metadata": {
  "kernelspec": {
   "display_name": "Julia 0.5.2",
   "language": "julia",
   "name": "julia-0.5"
  },
  "language_info": {
   "file_extension": ".jl",
   "mimetype": "application/julia",
   "name": "julia",
   "version": "0.5.2"
  }
 },
 "nbformat": 4,
 "nbformat_minor": 1
}
